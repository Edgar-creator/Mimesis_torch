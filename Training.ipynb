{
 "cells": [
  {
   "cell_type": "code",
   "execution_count": 1,
   "id": "064b68c9",
   "metadata": {
    "colab": {
     "base_uri": "https://localhost:8080/"
    },
    "executionInfo": {
     "elapsed": 342,
     "status": "ok",
     "timestamp": 1655899749486,
     "user": {
      "displayName": "Edgar Babayan",
      "userId": "16166242127233267648"
     },
     "user_tz": -240
    },
    "id": "064b68c9",
    "outputId": "e31e6d96-3a27-4390-ead9-e4320d7ec1c9"
   },
   "outputs": [],
   "source": [
    "import torch\n",
    "import torch.nn as nn\n",
    "import torch.optim as optim\n",
    "import torch.nn.functional as F\n",
    "from torchvision import datasets, transforms,models\n",
    "\n",
    "import numpy as np\n",
    "import matplotlib.pyplot as plt\n",
    "from PIL import Image\n",
    "from dataset_split import split_data\n",
    "import config\n",
    "import utils"
   ]
  },
  {
   "cell_type": "code",
   "execution_count": 3,
   "id": "ce17088d",
   "metadata": {
    "executionInfo": {
     "elapsed": 269,
     "status": "ok",
     "timestamp": 1655895302345,
     "user": {
      "displayName": "Edgar Babayan",
      "userId": "16166242127233267648"
     },
     "user_tz": -240
    },
    "id": "ce17088d"
   },
   "outputs": [],
   "source": [
    "train_loader,val_loader,test_loader = split_data()"
   ]
  },
  {
   "cell_type": "code",
   "execution_count": 3,
   "id": "d422adc1",
   "metadata": {
    "colab": {
     "base_uri": "https://localhost:8080/"
    },
    "executionInfo": {
     "elapsed": 316,
     "status": "ok",
     "timestamp": 1655895306061,
     "user": {
      "displayName": "Edgar Babayan",
      "userId": "16166242127233267648"
     },
     "user_tz": -240
    },
    "id": "d422adc1",
    "outputId": "22443c5a-9d16-4d77-da5c-4077a3626ada"
   },
   "outputs": [
    {
     "name": "stdout",
     "output_type": "stream",
     "text": [
      "MobileNetV3(\n",
      "  (features): Sequential(\n",
      "    (0): ConvNormActivation(\n",
      "      (0): Conv2d(3, 16, kernel_size=(3, 3), stride=(2, 2), padding=(1, 1), bias=False)\n",
      "      (1): BatchNorm2d(16, eps=0.001, momentum=0.01, affine=True, track_running_stats=True)\n",
      "      (2): Hardswish()\n",
      "    )\n",
      "    (1): InvertedResidual(\n",
      "      (block): Sequential(\n",
      "        (0): ConvNormActivation(\n",
      "          (0): Conv2d(16, 16, kernel_size=(3, 3), stride=(2, 2), padding=(1, 1), groups=16, bias=False)\n",
      "          (1): BatchNorm2d(16, eps=0.001, momentum=0.01, affine=True, track_running_stats=True)\n",
      "          (2): ReLU(inplace=True)\n",
      "        )\n",
      "        (1): SqueezeExcitation(\n",
      "          (avgpool): AdaptiveAvgPool2d(output_size=1)\n",
      "          (fc1): Conv2d(16, 8, kernel_size=(1, 1), stride=(1, 1))\n",
      "          (fc2): Conv2d(8, 16, kernel_size=(1, 1), stride=(1, 1))\n",
      "          (activation): ReLU()\n",
      "          (scale_activation): Hardsigmoid()\n",
      "        )\n",
      "        (2): ConvNormActivation(\n",
      "          (0): Conv2d(16, 16, kernel_size=(1, 1), stride=(1, 1), bias=False)\n",
      "          (1): BatchNorm2d(16, eps=0.001, momentum=0.01, affine=True, track_running_stats=True)\n",
      "        )\n",
      "      )\n",
      "    )\n",
      "    (2): InvertedResidual(\n",
      "      (block): Sequential(\n",
      "        (0): ConvNormActivation(\n",
      "          (0): Conv2d(16, 72, kernel_size=(1, 1), stride=(1, 1), bias=False)\n",
      "          (1): BatchNorm2d(72, eps=0.001, momentum=0.01, affine=True, track_running_stats=True)\n",
      "          (2): ReLU(inplace=True)\n",
      "        )\n",
      "        (1): ConvNormActivation(\n",
      "          (0): Conv2d(72, 72, kernel_size=(3, 3), stride=(2, 2), padding=(1, 1), groups=72, bias=False)\n",
      "          (1): BatchNorm2d(72, eps=0.001, momentum=0.01, affine=True, track_running_stats=True)\n",
      "          (2): ReLU(inplace=True)\n",
      "        )\n",
      "        (2): ConvNormActivation(\n",
      "          (0): Conv2d(72, 24, kernel_size=(1, 1), stride=(1, 1), bias=False)\n",
      "          (1): BatchNorm2d(24, eps=0.001, momentum=0.01, affine=True, track_running_stats=True)\n",
      "        )\n",
      "      )\n",
      "    )\n",
      "    (3): InvertedResidual(\n",
      "      (block): Sequential(\n",
      "        (0): ConvNormActivation(\n",
      "          (0): Conv2d(24, 88, kernel_size=(1, 1), stride=(1, 1), bias=False)\n",
      "          (1): BatchNorm2d(88, eps=0.001, momentum=0.01, affine=True, track_running_stats=True)\n",
      "          (2): ReLU(inplace=True)\n",
      "        )\n",
      "        (1): ConvNormActivation(\n",
      "          (0): Conv2d(88, 88, kernel_size=(3, 3), stride=(1, 1), padding=(1, 1), groups=88, bias=False)\n",
      "          (1): BatchNorm2d(88, eps=0.001, momentum=0.01, affine=True, track_running_stats=True)\n",
      "          (2): ReLU(inplace=True)\n",
      "        )\n",
      "        (2): ConvNormActivation(\n",
      "          (0): Conv2d(88, 24, kernel_size=(1, 1), stride=(1, 1), bias=False)\n",
      "          (1): BatchNorm2d(24, eps=0.001, momentum=0.01, affine=True, track_running_stats=True)\n",
      "        )\n",
      "      )\n",
      "    )\n",
      "    (4): InvertedResidual(\n",
      "      (block): Sequential(\n",
      "        (0): ConvNormActivation(\n",
      "          (0): Conv2d(24, 96, kernel_size=(1, 1), stride=(1, 1), bias=False)\n",
      "          (1): BatchNorm2d(96, eps=0.001, momentum=0.01, affine=True, track_running_stats=True)\n",
      "          (2): Hardswish()\n",
      "        )\n",
      "        (1): ConvNormActivation(\n",
      "          (0): Conv2d(96, 96, kernel_size=(5, 5), stride=(2, 2), padding=(2, 2), groups=96, bias=False)\n",
      "          (1): BatchNorm2d(96, eps=0.001, momentum=0.01, affine=True, track_running_stats=True)\n",
      "          (2): Hardswish()\n",
      "        )\n",
      "        (2): SqueezeExcitation(\n",
      "          (avgpool): AdaptiveAvgPool2d(output_size=1)\n",
      "          (fc1): Conv2d(96, 24, kernel_size=(1, 1), stride=(1, 1))\n",
      "          (fc2): Conv2d(24, 96, kernel_size=(1, 1), stride=(1, 1))\n",
      "          (activation): ReLU()\n",
      "          (scale_activation): Hardsigmoid()\n",
      "        )\n",
      "        (3): ConvNormActivation(\n",
      "          (0): Conv2d(96, 40, kernel_size=(1, 1), stride=(1, 1), bias=False)\n",
      "          (1): BatchNorm2d(40, eps=0.001, momentum=0.01, affine=True, track_running_stats=True)\n",
      "        )\n",
      "      )\n",
      "    )\n",
      "    (5): InvertedResidual(\n",
      "      (block): Sequential(\n",
      "        (0): ConvNormActivation(\n",
      "          (0): Conv2d(40, 240, kernel_size=(1, 1), stride=(1, 1), bias=False)\n",
      "          (1): BatchNorm2d(240, eps=0.001, momentum=0.01, affine=True, track_running_stats=True)\n",
      "          (2): Hardswish()\n",
      "        )\n",
      "        (1): ConvNormActivation(\n",
      "          (0): Conv2d(240, 240, kernel_size=(5, 5), stride=(1, 1), padding=(2, 2), groups=240, bias=False)\n",
      "          (1): BatchNorm2d(240, eps=0.001, momentum=0.01, affine=True, track_running_stats=True)\n",
      "          (2): Hardswish()\n",
      "        )\n",
      "        (2): SqueezeExcitation(\n",
      "          (avgpool): AdaptiveAvgPool2d(output_size=1)\n",
      "          (fc1): Conv2d(240, 64, kernel_size=(1, 1), stride=(1, 1))\n",
      "          (fc2): Conv2d(64, 240, kernel_size=(1, 1), stride=(1, 1))\n",
      "          (activation): ReLU()\n",
      "          (scale_activation): Hardsigmoid()\n",
      "        )\n",
      "        (3): ConvNormActivation(\n",
      "          (0): Conv2d(240, 40, kernel_size=(1, 1), stride=(1, 1), bias=False)\n",
      "          (1): BatchNorm2d(40, eps=0.001, momentum=0.01, affine=True, track_running_stats=True)\n",
      "        )\n",
      "      )\n",
      "    )\n",
      "    (6): InvertedResidual(\n",
      "      (block): Sequential(\n",
      "        (0): ConvNormActivation(\n",
      "          (0): Conv2d(40, 240, kernel_size=(1, 1), stride=(1, 1), bias=False)\n",
      "          (1): BatchNorm2d(240, eps=0.001, momentum=0.01, affine=True, track_running_stats=True)\n",
      "          (2): Hardswish()\n",
      "        )\n",
      "        (1): ConvNormActivation(\n",
      "          (0): Conv2d(240, 240, kernel_size=(5, 5), stride=(1, 1), padding=(2, 2), groups=240, bias=False)\n",
      "          (1): BatchNorm2d(240, eps=0.001, momentum=0.01, affine=True, track_running_stats=True)\n",
      "          (2): Hardswish()\n",
      "        )\n",
      "        (2): SqueezeExcitation(\n",
      "          (avgpool): AdaptiveAvgPool2d(output_size=1)\n",
      "          (fc1): Conv2d(240, 64, kernel_size=(1, 1), stride=(1, 1))\n",
      "          (fc2): Conv2d(64, 240, kernel_size=(1, 1), stride=(1, 1))\n",
      "          (activation): ReLU()\n",
      "          (scale_activation): Hardsigmoid()\n",
      "        )\n",
      "        (3): ConvNormActivation(\n",
      "          (0): Conv2d(240, 40, kernel_size=(1, 1), stride=(1, 1), bias=False)\n",
      "          (1): BatchNorm2d(40, eps=0.001, momentum=0.01, affine=True, track_running_stats=True)\n",
      "        )\n",
      "      )\n",
      "    )\n",
      "    (7): InvertedResidual(\n",
      "      (block): Sequential(\n",
      "        (0): ConvNormActivation(\n",
      "          (0): Conv2d(40, 120, kernel_size=(1, 1), stride=(1, 1), bias=False)\n",
      "          (1): BatchNorm2d(120, eps=0.001, momentum=0.01, affine=True, track_running_stats=True)\n",
      "          (2): Hardswish()\n",
      "        )\n",
      "        (1): ConvNormActivation(\n",
      "          (0): Conv2d(120, 120, kernel_size=(5, 5), stride=(1, 1), padding=(2, 2), groups=120, bias=False)\n",
      "          (1): BatchNorm2d(120, eps=0.001, momentum=0.01, affine=True, track_running_stats=True)\n",
      "          (2): Hardswish()\n",
      "        )\n",
      "        (2): SqueezeExcitation(\n",
      "          (avgpool): AdaptiveAvgPool2d(output_size=1)\n",
      "          (fc1): Conv2d(120, 32, kernel_size=(1, 1), stride=(1, 1))\n",
      "          (fc2): Conv2d(32, 120, kernel_size=(1, 1), stride=(1, 1))\n",
      "          (activation): ReLU()\n",
      "          (scale_activation): Hardsigmoid()\n",
      "        )\n",
      "        (3): ConvNormActivation(\n",
      "          (0): Conv2d(120, 48, kernel_size=(1, 1), stride=(1, 1), bias=False)\n",
      "          (1): BatchNorm2d(48, eps=0.001, momentum=0.01, affine=True, track_running_stats=True)\n",
      "        )\n",
      "      )\n",
      "    )\n",
      "    (8): InvertedResidual(\n",
      "      (block): Sequential(\n",
      "        (0): ConvNormActivation(\n",
      "          (0): Conv2d(48, 144, kernel_size=(1, 1), stride=(1, 1), bias=False)\n",
      "          (1): BatchNorm2d(144, eps=0.001, momentum=0.01, affine=True, track_running_stats=True)\n",
      "          (2): Hardswish()\n",
      "        )\n",
      "        (1): ConvNormActivation(\n",
      "          (0): Conv2d(144, 144, kernel_size=(5, 5), stride=(1, 1), padding=(2, 2), groups=144, bias=False)\n",
      "          (1): BatchNorm2d(144, eps=0.001, momentum=0.01, affine=True, track_running_stats=True)\n",
      "          (2): Hardswish()\n",
      "        )\n",
      "        (2): SqueezeExcitation(\n",
      "          (avgpool): AdaptiveAvgPool2d(output_size=1)\n",
      "          (fc1): Conv2d(144, 40, kernel_size=(1, 1), stride=(1, 1))\n",
      "          (fc2): Conv2d(40, 144, kernel_size=(1, 1), stride=(1, 1))\n",
      "          (activation): ReLU()\n",
      "          (scale_activation): Hardsigmoid()\n",
      "        )\n",
      "        (3): ConvNormActivation(\n",
      "          (0): Conv2d(144, 48, kernel_size=(1, 1), stride=(1, 1), bias=False)\n",
      "          (1): BatchNorm2d(48, eps=0.001, momentum=0.01, affine=True, track_running_stats=True)\n",
      "        )\n",
      "      )\n",
      "    )\n",
      "    (9): InvertedResidual(\n",
      "      (block): Sequential(\n",
      "        (0): ConvNormActivation(\n",
      "          (0): Conv2d(48, 288, kernel_size=(1, 1), stride=(1, 1), bias=False)\n",
      "          (1): BatchNorm2d(288, eps=0.001, momentum=0.01, affine=True, track_running_stats=True)\n",
      "          (2): Hardswish()\n",
      "        )\n",
      "        (1): ConvNormActivation(\n",
      "          (0): Conv2d(288, 288, kernel_size=(5, 5), stride=(2, 2), padding=(2, 2), groups=288, bias=False)\n",
      "          (1): BatchNorm2d(288, eps=0.001, momentum=0.01, affine=True, track_running_stats=True)\n",
      "          (2): Hardswish()\n",
      "        )\n",
      "        (2): SqueezeExcitation(\n",
      "          (avgpool): AdaptiveAvgPool2d(output_size=1)\n",
      "          (fc1): Conv2d(288, 72, kernel_size=(1, 1), stride=(1, 1))\n",
      "          (fc2): Conv2d(72, 288, kernel_size=(1, 1), stride=(1, 1))\n",
      "          (activation): ReLU()\n",
      "          (scale_activation): Hardsigmoid()\n",
      "        )\n",
      "        (3): ConvNormActivation(\n",
      "          (0): Conv2d(288, 96, kernel_size=(1, 1), stride=(1, 1), bias=False)\n",
      "          (1): BatchNorm2d(96, eps=0.001, momentum=0.01, affine=True, track_running_stats=True)\n",
      "        )\n",
      "      )\n",
      "    )\n",
      "    (10): InvertedResidual(\n",
      "      (block): Sequential(\n",
      "        (0): ConvNormActivation(\n",
      "          (0): Conv2d(96, 576, kernel_size=(1, 1), stride=(1, 1), bias=False)\n",
      "          (1): BatchNorm2d(576, eps=0.001, momentum=0.01, affine=True, track_running_stats=True)\n",
      "          (2): Hardswish()\n",
      "        )\n",
      "        (1): ConvNormActivation(\n",
      "          (0): Conv2d(576, 576, kernel_size=(5, 5), stride=(1, 1), padding=(2, 2), groups=576, bias=False)\n",
      "          (1): BatchNorm2d(576, eps=0.001, momentum=0.01, affine=True, track_running_stats=True)\n",
      "          (2): Hardswish()\n",
      "        )\n",
      "        (2): SqueezeExcitation(\n",
      "          (avgpool): AdaptiveAvgPool2d(output_size=1)\n",
      "          (fc1): Conv2d(576, 144, kernel_size=(1, 1), stride=(1, 1))\n",
      "          (fc2): Conv2d(144, 576, kernel_size=(1, 1), stride=(1, 1))\n",
      "          (activation): ReLU()\n",
      "          (scale_activation): Hardsigmoid()\n",
      "        )\n",
      "        (3): ConvNormActivation(\n",
      "          (0): Conv2d(576, 96, kernel_size=(1, 1), stride=(1, 1), bias=False)\n",
      "          (1): BatchNorm2d(96, eps=0.001, momentum=0.01, affine=True, track_running_stats=True)\n",
      "        )\n",
      "      )\n",
      "    )\n",
      "    (11): InvertedResidual(\n",
      "      (block): Sequential(\n",
      "        (0): ConvNormActivation(\n",
      "          (0): Conv2d(96, 576, kernel_size=(1, 1), stride=(1, 1), bias=False)\n",
      "          (1): BatchNorm2d(576, eps=0.001, momentum=0.01, affine=True, track_running_stats=True)\n",
      "          (2): Hardswish()\n",
      "        )\n",
      "        (1): ConvNormActivation(\n",
      "          (0): Conv2d(576, 576, kernel_size=(5, 5), stride=(1, 1), padding=(2, 2), groups=576, bias=False)\n",
      "          (1): BatchNorm2d(576, eps=0.001, momentum=0.01, affine=True, track_running_stats=True)\n",
      "          (2): Hardswish()\n",
      "        )\n",
      "        (2): SqueezeExcitation(\n",
      "          (avgpool): AdaptiveAvgPool2d(output_size=1)\n",
      "          (fc1): Conv2d(576, 144, kernel_size=(1, 1), stride=(1, 1))\n",
      "          (fc2): Conv2d(144, 576, kernel_size=(1, 1), stride=(1, 1))\n",
      "          (activation): ReLU()\n",
      "          (scale_activation): Hardsigmoid()\n",
      "        )\n",
      "        (3): ConvNormActivation(\n",
      "          (0): Conv2d(576, 96, kernel_size=(1, 1), stride=(1, 1), bias=False)\n",
      "          (1): BatchNorm2d(96, eps=0.001, momentum=0.01, affine=True, track_running_stats=True)\n",
      "        )\n",
      "      )\n",
      "    )\n",
      "    (12): ConvNormActivation(\n",
      "      (0): Conv2d(96, 576, kernel_size=(1, 1), stride=(1, 1), bias=False)\n",
      "      (1): BatchNorm2d(576, eps=0.001, momentum=0.01, affine=True, track_running_stats=True)\n",
      "      (2): Hardswish()\n",
      "    )\n",
      "  )\n",
      "  (avgpool): AdaptiveAvgPool2d(output_size=1)\n",
      "  (classifier): Sequential(\n",
      "    (0): Linear(in_features=576, out_features=1024, bias=True)\n",
      "    (1): Hardswish()\n",
      "    (2): Dropout(p=0.2, inplace=True)\n",
      "    (3): Linear(in_features=1024, out_features=1000, bias=True)\n",
      "  )\n",
      ")\n"
     ]
    }
   ],
   "source": [
    "# Load pretrained model & modify it\n",
    "model = models.mobilenet_v3_small(pretrained=True)\n",
    "print(model)"
   ]
  },
  {
   "cell_type": "code",
   "execution_count": 4,
   "id": "cd6e0653",
   "metadata": {
    "executionInfo": {
     "elapsed": 270,
     "status": "ok",
     "timestamp": 1655895309644,
     "user": {
      "displayName": "Edgar Babayan",
      "userId": "16166242127233267648"
     },
     "user_tz": -240
    },
    "id": "cd6e0653"
   },
   "outputs": [],
   "source": [
    "# If you want to do finetuning then set requires_grad = False\n",
    "for param in model.parameters():\n",
    "    param.requires_grad = True"
   ]
  },
  {
   "cell_type": "code",
   "execution_count": 5,
   "id": "038e5e89",
   "metadata": {
    "id": "038e5e89"
   },
   "outputs": [
    {
     "name": "stdout",
     "output_type": "stream",
     "text": [
      "\n"
     ]
    }
   ],
   "source": [
    "#model.avgpool = utils.Identity()#for passing a layer\n",
    "model.classifier = nn.Sequential(\n",
    "    nn.Linear(model.classifier[0].in_features, 100), nn.Hardswish(),  nn.Linear(100, config.NUM_CLASSES),\n",
    ")\n",
    "model.to(config.DEVICE)\n",
    "print()"
   ]
  },
  {
   "cell_type": "code",
   "execution_count": 6,
   "id": "db5ab89e",
   "metadata": {
    "executionInfo": {
     "elapsed": 346,
     "status": "ok",
     "timestamp": 1655895406129,
     "user": {
      "displayName": "Edgar Babayan",
      "userId": "16166242127233267648"
     },
     "user_tz": -240
    },
    "id": "db5ab89e"
   },
   "outputs": [],
   "source": [
    "# Loss and optimizer\n",
    "weight=torch.tensor([1.,2.]).to(config.DEVICE)#for inbalanced dataset\n",
    "criterion = nn.CrossEntropyLoss(weight=weight)\n",
    "optimizer = optim.Adam(model.parameters(), lr=config.LEARNING_RATE)\n",
    "scheduler = optim.lr_scheduler.ReduceLROnPlateau(optimizer,factor=0.5,patience=3,verbose=True)"
   ]
  },
  {
   "cell_type": "code",
   "execution_count": 9,
   "id": "cf3fcbaa",
   "metadata": {
    "colab": {
     "base_uri": "https://localhost:8080/"
    },
    "executionInfo": {
     "elapsed": 2709553,
     "status": "ok",
     "timestamp": 1655898116724,
     "user": {
      "displayName": "Edgar Babayan",
      "userId": "16166242127233267648"
     },
     "user_tz": -240
    },
    "id": "cf3fcbaa",
    "outputId": "3fc0b5d2-d53b-40c6-8855-ea68a5302517"
   },
   "outputs": [
    {
     "name": "stdout",
     "output_type": "stream",
     "text": [
      "Epoch:  0 TRAIN: Cost at epoch 0 is 0.52122\n",
      "Checking model accuracy...\n",
      "Got 316 / 439 with accuracy 71.98\n",
      "VAL: Cost at epoch 0 is 0.08661\n",
      "Saving model\n",
      "\n",
      "Epoch:  1 TRAIN: Cost at epoch 1 is 0.30012\n",
      "Checking model accuracy...\n",
      "Got 375 / 439 with accuracy 85.42\n",
      "VAL: Cost at epoch 1 is 0.06335\n",
      "Saving model\n",
      "\n",
      "Epoch:  2 TRAIN: Cost at epoch 2 is 0.19641\n",
      "Checking model accuracy...\n",
      "Got 397 / 439 with accuracy 90.43\n",
      "VAL: Cost at epoch 2 is 0.04018\n",
      "Saving model\n",
      "\n",
      "Epoch:  3 TRAIN: Cost at epoch 3 is 0.15168\n",
      "Checking model accuracy...\n",
      "Got 404 / 439 with accuracy 92.03\n",
      "VAL: Cost at epoch 3 is 0.03056\n",
      "Saving model\n",
      "\n",
      "Epoch:  4 TRAIN: Cost at epoch 4 is 0.11050\n",
      "Checking model accuracy...\n",
      "Got 410 / 439 with accuracy 93.39\n",
      "VAL: Cost at epoch 4 is 0.02859\n",
      "Saving model\n",
      "\n",
      "Epoch:  5 TRAIN: Cost at epoch 5 is 0.08130\n",
      "Checking model accuracy...\n",
      "Got 406 / 439 with accuracy 92.48\n",
      "VAL: Cost at epoch 5 is 0.02851\n",
      "Saving model\n",
      "\n",
      "Epoch:  6 TRAIN: Cost at epoch 6 is 0.06170\n",
      "Checking model accuracy...\n",
      "Got 418 / 439 with accuracy 95.22\n",
      "VAL: Cost at epoch 6 is 0.02393\n",
      "Saving model\n",
      "\n",
      "Epoch:  7 TRAIN: Cost at epoch 7 is 0.04631\n",
      "Checking model accuracy...\n",
      "Got 415 / 439 with accuracy 94.53\n",
      "VAL: Cost at epoch 7 is 0.02215\n",
      "Saving model\n",
      "\n",
      "Epoch:  8 TRAIN: Cost at epoch 8 is 0.05209\n",
      "Checking model accuracy...\n",
      "Got 415 / 439 with accuracy 94.53\n",
      "VAL: Cost at epoch 8 is 0.02405\n",
      "Epoch:  9 TRAIN: Cost at epoch 9 is 0.05185\n",
      "Checking model accuracy...\n",
      "Got 408 / 439 with accuracy 92.94\n",
      "VAL: Cost at epoch 9 is 0.01945\n",
      "Saving model\n",
      "\n",
      "Epoch:  10 TRAIN: Cost at epoch 10 is 0.04913\n",
      "Checking model accuracy...\n",
      "Got 414 / 439 with accuracy 94.31\n",
      "VAL: Cost at epoch 10 is 0.02125\n",
      "Epoch:  11 TRAIN: Cost at epoch 11 is 0.02301\n",
      "Checking model accuracy...\n",
      "Got 414 / 439 with accuracy 94.31\n",
      "VAL: Cost at epoch 11 is 0.02110\n",
      "Epoch:  12 TRAIN: Cost at epoch 12 is 0.02248\n",
      "Checking model accuracy...\n",
      "Got 418 / 439 with accuracy 95.22\n",
      "VAL: Cost at epoch 12 is 0.02094\n",
      "Epoch:  13 TRAIN: Cost at epoch 13 is 0.02715\n",
      "Checking model accuracy...\n",
      "Got 413 / 439 with accuracy 94.08\n",
      "VAL: Cost at epoch 13 is 0.02264\n",
      "Epoch:  14 TRAIN: Cost at epoch 14 is 0.03581\n",
      "Checking model accuracy...\n",
      "Got 412 / 439 with accuracy 93.85\n",
      "VAL: Cost at epoch 14 is 0.03624\n",
      "Epoch:  15 TRAIN: Cost at epoch 15 is 0.03170\n",
      "Checking model accuracy...\n",
      "Got 408 / 439 with accuracy 92.94\n",
      "VAL: Cost at epoch 15 is 0.02787\n",
      "Epoch:  16 Epoch 00017: reducing learning rate of group 0 to 5.0000e-05.\n",
      "TRAIN: Cost at epoch 16 is 0.02370\n",
      "Checking model accuracy...\n",
      "Got 410 / 439 with accuracy 93.39\n",
      "VAL: Cost at epoch 16 is 0.02418\n",
      "Epoch:  17 TRAIN: Cost at epoch 17 is 0.01426\n",
      "Checking model accuracy...\n",
      "Got 413 / 439 with accuracy 94.08\n",
      "VAL: Cost at epoch 17 is 0.02369\n",
      "Epoch:  18 TRAIN: Cost at epoch 18 is 0.02547\n",
      "Checking model accuracy...\n",
      "Got 414 / 439 with accuracy 94.31\n",
      "VAL: Cost at epoch 18 is 0.02547\n",
      "Epoch:  19 TRAIN: Cost at epoch 19 is 0.01712\n",
      "Checking model accuracy...\n",
      "Got 414 / 439 with accuracy 94.31\n",
      "VAL: Cost at epoch 19 is 0.02323\n",
      "Epoch:  20 TRAIN: Cost at epoch 20 is 0.01505\n",
      "Checking model accuracy...\n",
      "Got 412 / 439 with accuracy 93.85\n",
      "VAL: Cost at epoch 20 is 0.02143\n",
      "Epoch:  21 TRAIN: Cost at epoch 21 is 0.01148\n",
      "Checking model accuracy...\n",
      "Got 412 / 439 with accuracy 93.85\n",
      "VAL: Cost at epoch 21 is 0.02045\n",
      "Epoch:  22 TRAIN: Cost at epoch 22 is 0.00899\n",
      "Checking model accuracy...\n",
      "Got 412 / 439 with accuracy 93.85\n",
      "VAL: Cost at epoch 22 is 0.02090\n",
      "Epoch:  23 TRAIN: Cost at epoch 23 is 0.00940\n",
      "Checking model accuracy...\n",
      "Got 413 / 439 with accuracy 94.08\n",
      "VAL: Cost at epoch 23 is 0.02216\n",
      "Epoch:  24 TRAIN: Cost at epoch 24 is 0.00671\n",
      "Checking model accuracy...\n",
      "Got 413 / 439 with accuracy 94.08\n",
      "VAL: Cost at epoch 24 is 0.02423\n",
      "Epoch:  25 TRAIN: Cost at epoch 25 is 0.01059\n",
      "Checking model accuracy...\n",
      "Got 415 / 439 with accuracy 94.53\n",
      "VAL: Cost at epoch 25 is 0.02553\n",
      "Epoch:  26 TRAIN: Cost at epoch 26 is 0.00657\n",
      "Checking model accuracy...\n",
      "Got 413 / 439 with accuracy 94.08\n",
      "VAL: Cost at epoch 26 is 0.02502\n",
      "Epoch:  27 TRAIN: Cost at epoch 27 is 0.00479\n",
      "Checking model accuracy...\n",
      "Got 417 / 439 with accuracy 94.99\n",
      "VAL: Cost at epoch 27 is 0.02641\n",
      "Epoch:  28 TRAIN: Cost at epoch 28 is 0.00518\n",
      "Checking model accuracy...\n",
      "Got 415 / 439 with accuracy 94.53\n",
      "VAL: Cost at epoch 28 is 0.02675\n",
      "Epoch:  29 TRAIN: Cost at epoch 29 is 0.00665\n",
      "Checking model accuracy...\n",
      "Got 414 / 439 with accuracy 94.31\n",
      "VAL: Cost at epoch 29 is 0.02692\n"
     ]
    }
   ],
   "source": [
    "# Train Network\n",
    "\n",
    "train_loss_list = []\n",
    "val_loss_list = []\n",
    "min_loss = np.Inf\n",
    "for epoch in range(30):\n",
    "    print('Epoch: ',epoch,end=\" \")\n",
    "    train_loss = 0\n",
    "    model.train()\n",
    "    for batch_idx, (data, targets) in enumerate(train_loader):\n",
    "        # Get data to cuda if possible\n",
    "        data = data.to(device=config.DEVICE)\n",
    "        targets = targets.to(device=config.DEVICE)\n",
    "\n",
    "        # forward\n",
    "        scores = model(data)\n",
    "        \n",
    "        loss = criterion(scores, targets)\n",
    "\n",
    "        train_loss+=loss.item()*data.size(0)\n",
    "        # backward\n",
    "        optimizer.zero_grad()\n",
    "        loss.backward()\n",
    "\n",
    "        # gradient descent or adam step\n",
    "        optimizer.step()\n",
    "    \n",
    "    train_all_loss = train_loss/len(train_loader.sampler)\n",
    "    scheduler.step(train_all_loss)\n",
    "    print(f\"TRAIN: Cost at epoch {epoch} is {train_all_loss:.5f}\")\n",
    "    train_loss_list.append(train_all_loss)\n",
    "    \n",
    "    val_loss = utils.check_accuracy(val_loader, model,config.DEVICE,criterion=criterion)\n",
    "            \n",
    "    val_all_loss = val_loss/len(val_loader.sampler)\n",
    "    print(f\"VAL: Cost at epoch {epoch} is {val_all_loss:.5f}\")\n",
    "    val_loss_list.append(val_all_loss)\n",
    "        \n",
    "    if val_all_loss<=min_loss:\n",
    "        print(\"Saving model\")\n",
    "        print()\n",
    "        torch.save(model.state_dict(), 'model_weights.pth')\n",
    "        min_loss = val_all_loss\n",
    "    \n",
    "        "
   ]
  },
  {
   "cell_type": "code",
   "execution_count": 26,
   "id": "xIp8LxisOxtr",
   "metadata": {
    "colab": {
     "base_uri": "https://localhost:8080/",
     "height": 265
    },
    "executionInfo": {
     "elapsed": 541,
     "status": "ok",
     "timestamp": 1655898696036,
     "user": {
      "displayName": "Edgar Babayan",
      "userId": "16166242127233267648"
     },
     "user_tz": -240
    },
    "id": "xIp8LxisOxtr",
    "outputId": "590363e8-040d-4435-f7ab-f573ed769944"
   },
   "outputs": [
    {
     "data": {
      "image/png": "[encoded data removed]",
      "text/plain": [
       "<Figure size 432x288 with 1 Axes>"
      ]
     },
     "metadata": {
      "needs_background": "light"
     },
     "output_type": "display_data"
    }
   ],
   "source": [
    "plt.plot(train_loss_list,label='Train Loss')\n",
    "plt.plot([i.to('cpu') for i in val_loss_list],label = 'Val Loss')\n",
    "plt.legend()\n",
    "plt.show()"
   ]
  },
  {
   "cell_type": "code",
   "execution_count": 1,
   "id": "cyzB8iQESqMu",
   "metadata": {
    "executionInfo": {
     "elapsed": 286,
     "status": "ok",
     "timestamp": 1655899754261,
     "user": {
      "displayName": "Edgar Babayan",
      "userId": "16166242127233267648"
     },
     "user_tz": -240
    },
    "id": "cyzB8iQESqMu"
   },
   "outputs": [],
   "source": [
    "import config\n",
    "import utils\n",
    "test_model = utils.load_model('model_weights.pth',config.DEVICE,config.NUM_CLASSES)"
   ]
  },
  {
   "cell_type": "code",
   "execution_count": 10,
   "id": "6CHG3_mFCgG1",
   "metadata": {
    "colab": {
     "base_uri": "https://localhost:8080/"
    },
    "executionInfo": {
     "elapsed": 13241,
     "status": "ok",
     "timestamp": 1655899773843,
     "user": {
      "displayName": "Edgar Babayan",
      "userId": "16166242127233267648"
     },
     "user_tz": -240
    },
    "id": "6CHG3_mFCgG1",
    "outputId": "69b47f6a-8ede-4477-8b2d-504010df57ba"
   },
   "outputs": [
    {
     "name": "stdout",
     "output_type": "stream",
     "text": [
      "Model accuracy on test data\n",
      "Checking model accuracy...\n",
      "Got 421 / 441 with accuracy 95.46\n"
     ]
    }
   ],
   "source": [
    "print('Model accuracy on test data')\n",
    "utils.check_accuracy(test_loader,test_model,device=config.DEVICE)"
   ]
  },
  {
   "cell_type": "code",
   "execution_count": 6,
   "id": "6229f917",
   "metadata": {},
   "outputs": [],
   "source": [
    "image_path = 'rotation_test/turn/0201_00.jpg'"
   ]
  },
  {
   "cell_type": "code",
   "execution_count": 12,
   "id": "f614e882",
   "metadata": {},
   "outputs": [],
   "source": [
    "from PIL import Image\n",
    "image = Image.open(image_path)\n",
    "# Create the preprocessing transformation here\n",
    "prep = config.val_transforms(image)\n",
    "# unsqueeze batch dimension\n",
    "batch_image = prep.unsqueeze(0)\n",
    "# Get prediction\n",
    "output = torch.argmax(test_model(batch_image))"
   ]
  },
  {
   "cell_type": "code",
   "execution_count": 13,
   "id": "73db5c82",
   "metadata": {},
   "outputs": [
    {
     "data": {
      "text/plain": [
       "tensor(1)"
      ]
     },
     "execution_count": 13,
     "metadata": {},
     "output_type": "execute_result"
    }
   ],
   "source": [
    "output"
   ]
  },
  {
   "cell_type": "code",
   "execution_count": null,
   "id": "f0e4ab03",
   "metadata": {},
   "outputs": [],
   "source": []
  }
 ],
 "metadata": {
  "accelerator": "GPU",
  "colab": {
   "collapsed_sections": [],
   "name": "Untitled.ipynb",
   "provenance": []
  },
  "gpuClass": "standard",
  "kernelspec": {
   "display_name": "new",
   "language": "python",
   "name": "new"
  },
  "language_info": {
   "codemirror_mode": {
    "name": "ipython",
    "version": 3
   },
   "file_extension": ".py",
   "mimetype": "text/x-python",
   "name": "python",
   "nbconvert_exporter": "python",
   "pygments_lexer": "ipython3",
   "version": "3.8.5"
  }
 },
 "nbformat": 4,
 "nbformat_minor": 5
}
